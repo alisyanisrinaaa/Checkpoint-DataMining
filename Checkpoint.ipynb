{
  "nbformat": 4,
  "nbformat_minor": 0,
  "metadata": {
    "colab": {
      "provenance": [],
      "authorship_tag": "ABX9TyOYtE/CliuV5Z1CCAksp9im",
      "include_colab_link": true
    },
    "kernelspec": {
      "name": "python3",
      "display_name": "Python 3"
    },
    "language_info": {
      "name": "python"
    }
  },
  "cells": [
    {
      "cell_type": "markdown",
      "metadata": {
        "id": "view-in-github",
        "colab_type": "text"
      },
      "source": [
        "<a href=\"https://colab.research.google.com/github/alisyanisrinaaa/Checkpoint-DataMining/blob/main/Checkpoint.ipynb\" target=\"_parent\"><img src=\"https://colab.research.google.com/assets/colab-badge.svg\" alt=\"Open In Colab\"/></a>"
      ]
    },
    {
      "cell_type": "markdown",
      "source": [
        "**Nama  : Alisya Nisrina Sativa**\n",
        "\n",
        "**NIM   : 2209116005**\n",
        "\n",
        "**Kelas : A1 - Sistem Informasi A 2022**"
      ],
      "metadata": {
        "id": "KKicPsLDAfRF"
      }
    },
    {
      "cell_type": "markdown",
      "source": [
        "# **Customer Shopping Trends Data**"
      ],
      "metadata": {
        "id": "hw8_SppTAjEo"
      }
    },
    {
      "cell_type": "markdown",
      "source": [
        "## **Business Understanding**"
      ],
      "metadata": {
        "id": "7zsBCBWyAlrG"
      }
    },
    {
      "cell_type": "markdown",
      "source": [
        "**Business Objective**"
      ],
      "metadata": {
        "id": "HRu7vEQaAojT"
      }
    },
    {
      "cell_type": "markdown",
      "source": [
        "Tujuan bisnis dari dataset ini adalah untuk menganalisis kepuasan pelanggan dan tren terkini dalam berbelanja. Fokus dari analisis ini adalah untuk memahami perilaku pelanggan, merancang strategi pemasaran yang lebih efektif, meningkatkan pengalaman pelanggan, membuat keputusan yang tepat dan lebih baik dalam pengelolaan stok dan operasional, serta mengoptimalkan metode pembayaran yang akan ditawarkan sesuai dengan preferensi pelanggan. Strategi pemasaran akan disesuaikan dengan tren dan preferensi pelanggan, sedangkan inovasi produk dan layanan bertujuan untuk memenuhi kebutuhan pasar yang terus berkembang. Pencapaian tujuan ini diharapkan akan menciptakan hasil finansial yang kuat dan berkelanjutan dan memberikan manfaat yang bekerlanjutan untuk semua pihak."
      ],
      "metadata": {
        "id": "BfF9cHa8A0_Q"
      }
    },
    {
      "cell_type": "markdown",
      "source": [
        "**Assess Situation**"
      ],
      "metadata": {
        "id": "iiFalNZYA1ve"
      }
    },
    {
      "cell_type": "markdown",
      "source": [
        "Dalam melihat kondisi bisnis saat ini, perusahaan tahu bahwa data preferensi pelanggan sangat berharga, tetapi perlu dipastikan kembali keakuratannya. Perusahaan sadar akan pentingnya mengikuti tren pasar dan strategi pesaing untuk menjaga relevansi produk perusahaan. Evaluasi terus menerus dilakukan untuk menambah efektivitas strategi pemasaran dan layanan pelanggan untuk meningkatkan kepuasan pelanggan. Perusahaan akan menyesuaikan kebijakan dan operasioanl untuk mengikuti faktor ekonomi dan regulasi. Pengelolaan stok akan dioptimalkan berdasarkan analisis data, dan keamanan transaksi akan lebih diperkuat."
      ],
      "metadata": {
        "id": "i8m4Np1_AvGX"
      }
    },
    {
      "cell_type": "markdown",
      "source": [
        "**Data Mining Goals**"
      ],
      "metadata": {
        "id": "6kJJ8lKqA6V9"
      }
    },
    {
      "cell_type": "markdown",
      "source": [
        "Goals dari analisis data ini adalah untuk mengidentifikasi pola pembelian pelanggan yang mencerminkan korelasi antara produk, membantu perusahaan untuk memahami hubungan dan kombinasi yang sedang terjadi. Lalu, perusahaan akan fokus pada segmentasi pelanggan dengan mengelompokkan pelanggan berdasarkan pola pembelian mereka. Hal ini akan membantu perusahaan dalam merancang strategi pemasaran yang lebih terfokus dan personalisasi. Selain itu, perusahaan akan menerapkan sistem rekomendasi untuk meningkatkan pengalaman pelanggan melalui penawaran produk yang lebih relevan dan disesuaikan dengan kebutuhan pelanggan. Dengan analisis ulasan dan penilaian produk, perusahaan berharap dapat memahami pandangan pelanggan mengenai produknya. Dengan mencapai tujuan-tujuan ini, perusahaan berharap dapat mengoptimalkan operasional bisnis dan memberi nilai tambah yang lebih besar bagi pelanggan."
      ],
      "metadata": {
        "id": "vgNI23SrA8pO"
      }
    },
    {
      "cell_type": "markdown",
      "source": [
        "**Project Plan**"
      ],
      "metadata": {
        "id": "krUWYheYA-RE"
      }
    },
    {
      "cell_type": "markdown",
      "source": [
        "Rencana proyek untuk menganalisis dataset ini dimulai dengan mengumpulkan data dari sumber yang tersedia, termasuk memastikan keakuratan dataset pilihan pelanggan. Kemudian, data tersebut akan dikelompokkan berdasarkan pola pembelian, memeriksa korelasi antar produk, dan menerapkan sistem rekomendasi untuk mempersonalisasi penawaran. Evaluasi strategi pemasaran akan dilakukan untuk mengukur efektivitasnya, dan analisis sentimen dari ulasan pelanggan akan memberikan wawasan terhadap persepsi produk. Fokus pada penerapan strategi baru dan pengembangan produk untuk meningkatkan kinerja bisnis. Proses pemantauan dan pengembangan berkelanjutan dilakukan untuk menyesuaikan strategi dengan perubahan tren dan kebutuhan pasar. Keamanan data dan privasi pelanggan akan menjadi prioritas di setiap tahapan proyek ini."
      ],
      "metadata": {
        "id": "c-Q1nFvvBAVq"
      }
    }
  ]
}